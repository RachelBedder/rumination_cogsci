{
 "cells": [
  {
   "cell_type": "markdown",
   "id": "a96959b8",
   "metadata": {},
   "source": [
    "# rumPOMDP\n",
    "\n",
    "Rachel L Bedder (rlbedder@princeton.edu)\n",
    "\n",
    "From public repository at https://github.com/RachelBedder/rumination_cogsci\n",
    "v1. 05/16/2023"
   ]
  },
  {
   "cell_type": "code",
   "execution_count": 1,
   "id": "d39d61f5",
   "metadata": {},
   "outputs": [],
   "source": [
    "#~~~~~~~~~~~~~~~~~~~~~~~~~~~~~~~~~~~~~~~~~~#\n",
    "### IMPORT SOME STUFF\n",
    "#import what is necessary and some things that may be unnecessary\n",
    "#~~~~~~~~~~~~~~~~~~~~~~~~~~~~~~~~~~~~~~~~~~#\n",
    "import matplotlib as mpl\n",
    "import matplotlib.pyplot as plt\n",
    "from matplotlib.patches import Rectangle, Circle, Polygon\n",
    "import numpy as np\n",
    "import pandas as pd\n",
    "import random\n",
    "import seaborn as sns\n",
    "import math\n",
    "from scipy import stats\n",
    "from scipy.interpolate import griddata\n",
    "import copy\n",
    "import pickle\n",
    "import itertools\n",
    "import importlib\n",
    "import os\n",
    "\n",
    "#~~~~~~~~~~~~~~~~~~~~~~~~~~~~~~~~~~~~~~~~~~#\n",
    "### NUMPY SETTINGS\n",
    "#~~~~~~~~~~~~~~~~~~~~~~~~~~~~~~~~~~~~~~~~~~#\n",
    "np.set_printoptions(precision = 2)\n",
    "\n",
    "#~~~~~~~~~~~~~~~~~~~~~~~~~~~~~~~~~~~~~~~~~~#\n",
    "### BESPOKE FUNCTIONS\n",
    "#~~~~~~~~~~~~~~~~~~~~~~~~~~~~~~~~~~~~~~~~~~#\n",
    "from build_object_rumPOMDP import * \n",
    "from convenience_functions_rumPOMDP import * \n",
    "from modelFunctions_rumPOMDP import * \n",
    "from sample_sequence_functions_rumPOMDP import * \n",
    "from rewards_rumPOMDP import * \n",
    "from hidden_states_rumPOMDP import * \n",
    "from qvalues_rumPOMDP import *\n",
    "\n",
    "#~~~~~~~~~~~~~~~~~~~~~~~~~~~~~~~~~~~~~~~~~~#\n",
    "### DEFINE FOLDER NAMES FOR SAVING OBJECTS AND FIGURES\n",
    "#~~~~~~~~~~~~~~~~~~~~~~~~~~~~~~~~~~~~~~~~~~#\n",
    "mainPath = './simulations/'\n",
    "\n",
    "if not os.path.exists(mainPath): #...if it already exists, it will not make a new folder\n",
    "    os.makedirs(mainPath)\n",
    "\n",
    "subFolders = ['objects','figures'] #...define the subfolder names, we will make these later\n"
   ]
  },
  {
   "cell_type": "code",
   "execution_count": 2,
   "id": "b7074522",
   "metadata": {},
   "outputs": [
    {
     "data": {
      "text/plain": [
       "'./Rumination_CogSci/simulations'"
      ]
     },
     "execution_count": 2,
     "metadata": {},
     "output_type": "execute_result"
    }
   ],
   "source": [
    "simPath"
   ]
  },
  {
   "cell_type": "markdown",
   "id": "5367a05e",
   "metadata": {},
   "source": [
    "# 0. Open a pickled object\n",
    "\n",
    "Comment these cells out if you are running new simulations"
   ]
  },
  {
   "cell_type": "code",
   "execution_count": null,
   "id": "e9b58b20",
   "metadata": {},
   "outputs": [],
   "source": [
    "simNames = get_subfolders(mainPath)\n",
    "print(simNames) #...returns all the possible object folders"
   ]
  },
  {
   "cell_type": "code",
   "execution_count": null,
   "id": "acd7c8b4",
   "metadata": {},
   "outputs": [],
   "source": [
    "pickleJar = simNames[1] #...select which one you want to unscrew!\n",
    "\n",
    "simList = pickle_shelf(mainPath+pickleJar, 'pickledObject.dat')\n",
    "\n",
    "#...extract what you need into the workplace\n",
    "allRewards = simList[0].allRewards\n",
    "allCosts = simList[0].allCosts\n",
    "ratioIdx = simList[0].ratioIdx\n",
    "simDict = simList[0].simDict\n",
    "\n",
    "figFolder = os.path.join(pickleJar, 'figures/')\n",
    "objectFolder = os.path.join(pickleJar, 'objects/')"
   ]
  },
  {
   "cell_type": "markdown",
   "id": "77a85ca2",
   "metadata": {},
   "source": [
    "# 1. Create Objects for a range of hidden states (1D)\n",
    "\n",
    "Select the observation distributions and reward functions for your simulation.\n",
    "\n",
    "#### \"hidden states:\"\n",
    "\n",
    "This will generate a list of objects (e.g. simList) each with different hidden states.\n",
    "The function 'build_hidden_states' contains sets of standard deviations and distances between the means given different keyword strings.\n",
    "\n",
    "\"baseline\" std ∈ [10:5:20], mean ∈ [10:5:20] <br>\n",
    "\"test\" std ∈ [20:5:30], mean ∈ [10:5:20]\n",
    "\n",
    "#### \"rewards\"\n",
    "\n",
    "Given some base number (typically 100), the function 'rewards_hidden_states' will generate a matrix of rewards for each state given some string keyword.\n",
    "\n",
    "\"loss_correct\": rewards always +100, loss for X2 A1 is -100. Losses for X1 A2 range between ratios of 0.25 and 8 in granuality of 0.25.\n",
    "\"gain_incorrect\": losses always -100, gain for X2 A2 is +100. Gains for X1 A1 range between ratios of 0.25 and 8 in granuality of 0.25."
   ]
  },
  {
   "cell_type": "code",
   "execution_count": null,
   "id": "f99ffdb3",
   "metadata": {},
   "outputs": [],
   "source": [
    "# simDict = {\n",
    "#     \"name\": \"gainIncorrect_baseline\",\n",
    "#     \"rewards\": \"gain_incorrect\",\n",
    "#     \"hidden states\": \"baseline\"}\n",
    "\n",
    "# simDict = {\n",
    "#     \"name\": \"lossIncorrect_baseline\",\n",
    "#     \"rewards\": \"loss_incorrect\",\n",
    "#     \"hidden states\": \"baseline\"}\n",
    "\n",
    "# simDict = {\n",
    "#     \"name\": \"gainCorrect_baseline\",\n",
    "#     \"rewards\": \"gain_correct\",\n",
    "#     \"hidden states\": \"baseline\"}\n",
    "    \n",
    "simDict = {\n",
    "    \"name\": \"lossCorrect_baseline\",\n",
    "    \"rewards\": \"loss_correct\",\n",
    "    \"hidden states\": \"baseline\"}\n",
    "\n",
    "\n",
    "#~~~~~~~~~~~~~~~~~~~~~~~~~~~~~~~~~~~~~~~~~~#\n",
    "### MAKE A FOLDER FOR THIS SIMULATION\n",
    "#and respective subfolders\n",
    "#~~~~~~~~~~~~~~~~~~~~~~~~~~~~~~~~~~~~~~~~~~#\n",
    "folderRandom = str(random.randrange(1000,9999))\n",
    "simPath = mainPath+simDict[\"name\"]+'_'+folderRandom#...define the path of the main folder\n",
    "\n",
    "#...create the simulation main folder\n",
    "if not os.path.exists(simPath): \n",
    "    os.makedirs(simPath)\n",
    "    \n",
    "#...create the subfolders within the main simulation folder\n",
    "for subFolder in subFolders:\n",
    "    subfolder_path = os.path.join(simPath, subFolder)\n",
    "    if not os.path.exists(subfolder_path):\n",
    "        os.makedirs(subfolder_path)\n",
    "        \n",
    "figFolder = os.path.join(simPath, 'figures/')\n",
    "objectFolder = os.path.join(simPath, 'objects/')\n"
   ]
  },
  {
   "cell_type": "code",
   "execution_count": null,
   "id": "29e55fdd",
   "metadata": {
    "scrolled": false
   },
   "outputs": [],
   "source": [
    "#~~~~~~~~~~~~~~~~~~~~~~~~~~~~~~~~~~~~~~~~~~#\n",
    "### BUILD THE HIDDEN STATE OBSERVATION DISTRIBUTIONS\n",
    "#~~~~~~~~~~~~~~~~~~~~~~~~~~~~~~~~~~~~~~~~~~#\n",
    "\n",
    "xObvs = build_hidden_states(simDict[\"hidden states\"])\n",
    "\n",
    "obvStep = np.array([1]) #...this discretizes the observations which go from 1 to 100\n",
    "\n",
    "simList = [] #...initialize a list to contain all the objects\n",
    "\n",
    "for sim in xObvs:\n",
    "    \n",
    "    simList.append(POMDP(sim,obvStep)) \n",
    "\n",
    "for sim in simList:\n",
    "    \n",
    "    sim.simDict = simDict\n",
    "\n",
    "    sim.belief_transition_matrix()\n",
    "    sim.belief_transition_matrix_plot(figFolder) #...if you don't want to save these images just add an empty string here"
   ]
  },
  {
   "cell_type": "code",
   "execution_count": null,
   "id": "d644b84f",
   "metadata": {},
   "outputs": [],
   "source": [
    "#~~~~~~~~~~~~~~~~~~~~~~~~~~~~~~~~~~~~~~~~~~#\n",
    "### BUILD THE REWARD FUNCTIONS\n",
    "#~~~~~~~~~~~~~~~~~~~~~~~~~~~~~~~~~~~~~~~~~~#\n",
    "baseNo = np.array([100])\n",
    "\n",
    "allRewards,ratioIdx = rewards_hidden_states(simDict[\"rewards\"],baseNo)\n",
    "\n",
    "costRatios = np.array([0.00001,0.01,0.05])\n",
    "allCosts = -costRatios*baseNo #...generate costs as a ratio of the base gain value\n",
    "\n",
    "print(allRewards)\n",
    "print(ratioIdx)\n",
    "print(allRewards[:,ratioIdx[0]]/allRewards[:,ratioIdx[1]])"
   ]
  },
  {
   "cell_type": "code",
   "execution_count": null,
   "id": "8551a254",
   "metadata": {
    "scrolled": true
   },
   "outputs": [],
   "source": [
    "#~~~~~~~~~~~~~~~~~~~~~~~~~~~~~~~~~~~~~~~~~~#\n",
    "### USE VALUE ITERATION TO FIND THE VALUES OF ALL BELIEF STATES AND ACTIONS UNDER THE OPTIMAL POLICY\n",
    "#~~~~~~~~~~~~~~~~~~~~~~~~~~~~~~~~~~~~~~~~~~#\n",
    "figPrint = 'true' #...true if you want to see the value iteration plots\n",
    "\n",
    "for sim in simList:\n",
    "    sim.value_iteration(allRewards,allCosts,figPrint,figFolder)\n",
    "    sim.ratioIdx = ratioIdx\n",
    "print('finished value iteration')"
   ]
  },
  {
   "cell_type": "code",
   "execution_count": null,
   "id": "594df589",
   "metadata": {
    "scrolled": true
   },
   "outputs": [],
   "source": [
    "#~~~~~~~~~~~~~~~~~~~~~~~~~~~~~~~~~~~~~~~~~~#\n",
    "### GENERATE SOME NICE PLOTS THE VALUES OF EACH ACTION IN EACH BELIEF STATE\n",
    "#~~~~~~~~~~~~~~~~~~~~~~~~~~~~~~~~~~~~~~~~~~#\n",
    "rewardID = range(len(allRewards)) #...specify which rewards and costs you want to print for\n",
    "costID = range(len(allCosts))\n",
    "      \n",
    "for sim in simList:\n",
    "     qvalues_figure(sim,rewardID,costID,figFolder) \n",
    "    \n",
    "#qvalues_figure(simList[4],rewardID,costID,figFolder)"
   ]
  },
  {
   "cell_type": "markdown",
   "id": "b0436622",
   "metadata": {},
   "source": [
    "# 3. Simulate accumulating information for each state and reward combination in the initial object list\n",
    "\n",
    "Simulate various trials for each objects possible reward and costs."
   ]
  },
  {
   "cell_type": "code",
   "execution_count": null,
   "id": "bc628ed2",
   "metadata": {
    "scrolled": true
   },
   "outputs": [],
   "source": [
    "#~~~~~~~~~~~~~~~~~~~~~~~~~~~~~~~~~~~~~~~~~~#\n",
    "### SIMULATE A SERIES OF TRIALS FOR EACH SET OF STATES, REWARDS AND COSTS\n",
    "#~~~~~~~~~~~~~~~~~~~~~~~~~~~~~~~~~~~~~~~~~~#\n",
    "rewardID = range(len(allRewards))\n",
    "costID = range(len(allCosts))\n",
    "beliefStart = 0.5\n",
    "maxSamples  = 100 #...maximum number of samples on each trial\n",
    "noTrials = 20 #...number of independent trials/agents\n",
    "\n",
    "obv_mismatch = \"no_mismatch\"\n",
    "\n",
    "for sim in simList: #...Prints each column is a reward ratio, each row as different hidden states\n",
    "        \n",
    "        sample_sequence_observation_accumulated_cost(sim,allRewards,allCosts,rewardID,costID,beliefStart,maxSamples,noTrials,obv_mismatch)"
   ]
  },
  {
   "cell_type": "code",
   "execution_count": null,
   "id": "4aca7961",
   "metadata": {
    "scrolled": false
   },
   "outputs": [],
   "source": [
    "#~~~~~~~~~~~~~~~~~~~~~~~~~~~~~~~~~~~~~~~~~~#\n",
    "### FIGURES FOR AVERAGE NUMBER OF SAMPLES TAKEN FOR EACH SET OF STATES, REWARDS AND COSTS\n",
    "#~~~~~~~~~~~~~~~~~~~~~~~~~~~~~~~~~~~~~~~~~~#\n",
    "rewardID = range(len(allRewards))\n",
    "costID = range(len(allCosts))\n",
    "\n",
    "for sim in simList: #...Prints each column is a reward ratio, each row as different hidden states\n",
    "    sample_sequence_figure(sim,allRewards,allCosts,rewardID,costID,ratioIdx,figFolder)"
   ]
  },
  {
   "cell_type": "markdown",
   "id": "25cc1e59",
   "metadata": {},
   "source": [
    "# 4. Save the list of simulation objects"
   ]
  },
  {
   "cell_type": "code",
   "execution_count": null,
   "id": "40d87881",
   "metadata": {},
   "outputs": [],
   "source": [
    "objectName = 'pickledObject'\n",
    "PIK = (objectFolder+objectName+'.dat')\n",
    "with open(PIK, \"wb\") as f:\n",
    "    pickle.dump(simList, f) "
   ]
  }
 ],
 "metadata": {
  "kernelspec": {
   "display_name": "Python 3",
   "language": "python",
   "name": "python3"
  },
  "language_info": {
   "codemirror_mode": {
    "name": "ipython",
    "version": 3
   },
   "file_extension": ".py",
   "mimetype": "text/x-python",
   "name": "python",
   "nbconvert_exporter": "python",
   "pygments_lexer": "ipython3",
   "version": "3.8.8"
  }
 },
 "nbformat": 4,
 "nbformat_minor": 5
}
